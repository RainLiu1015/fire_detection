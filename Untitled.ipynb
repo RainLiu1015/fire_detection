{
 "cells": [
  {
   "cell_type": "code",
   "execution_count": 13,
   "id": "0e61b6fb-4b19-468f-831c-b73483e2b0ba",
   "metadata": {},
   "outputs": [
    {
     "name": "stdout",
     "output_type": "stream",
     "text": [
      "/Users/apple/Desktop/Code/fire_detection/screenshots\n",
      "截图已保存到'/Users/apple/Desktop/Code/fire_detection/screenshots/1.png'\n",
      "截图已保存到'/Users/apple/Desktop/Code/fire_detection/screenshots/2.png'\n",
      "截图已保存到'/Users/apple/Desktop/Code/fire_detection/screenshots/3.png'\n",
      "截图已保存到'/Users/apple/Desktop/Code/fire_detection/screenshots/4.png'\n",
      "截图已保存到'/Users/apple/Desktop/Code/fire_detection/screenshots/5.png'\n",
      "截图已保存到'/Users/apple/Desktop/Code/fire_detection/screenshots/6.png'\n",
      "截图已保存到'/Users/apple/Desktop/Code/fire_detection/screenshots/7.png'\n",
      "截图已保存到'/Users/apple/Desktop/Code/fire_detection/screenshots/8.png'\n",
      "截图已保存到'/Users/apple/Desktop/Code/fire_detection/screenshots/9.png'\n",
      "截图已保存到'/Users/apple/Desktop/Code/fire_detection/screenshots/10.png'\n",
      "截图已保存到'/Users/apple/Desktop/Code/fire_detection/screenshots/11.png'\n",
      "截图已保存到'/Users/apple/Desktop/Code/fire_detection/screenshots/12.png'\n",
      "截图已停止\n"
     ]
    }
   ],
   "source": [
    "import os\n",
    "from PIL import ImageGrab\n",
    "import time\n",
    "\n",
    "class ScreeShoter:\n",
    "    def __init__(self):\n",
    "        BASE_DIR = os.getcwd()g # 得到当前文件目录\n",
    "        dir_name = \"screenshots\" # 所有截图文件存放在一个名为screenshots的文件夹中\n",
    "        dir_path = os.path.join(BASE_DIR, dir_name) # 连接两个目录名成为新的目录名\n",
    "        left = 0 # 左上角的坐标和需要截图的大小\n",
    "        top = 0\n",
    "        width = 0\n",
    "        height = 0\n",
    "\n",
    "    \n",
    "    def get_shots(time):\n",
    "        cnt = 0\n",
    "        try:\n",
    "            while True:\n",
    "                if not os.path.exists(self.dir_path):\n",
    "                    os.mkdir(self.dir_path)\n",
    "                cnt += 1\n",
    "                # 使用imageGrab函数截取屏幕区域\n",
    "                screenshot = ImageGrab.grab((left, top, width, height))\n",
    "                # 保存截图到文件\n",
    "                file_name = str(cnt) + \".png\"\n",
    "                file_path = os.path.join(self.dir_path, file_name)\n",
    "                screenshot.save(file_path)\n",
    "                print(f\"截图已保存到'{file_path}'\")\n",
    "                # 等待1秒\n",
    "                time.sleep(1)\n",
    "        except KeyboardInterrupt:\n",
    "            print(\"截图已停止\")\n"
   ]
  },
  {
   "cell_type": "code",
   "execution_count": null,
   "id": "9a124b90-121b-42f1-8244-a1b8ff2796ef",
   "metadata": {},
   "outputs": [],
   "source": []
  }
 ],
 "metadata": {
  "kernelspec": {
   "display_name": "Python 3 (ipykernel)",
   "language": "python",
   "name": "python3"
  },
  "language_info": {
   "codemirror_mode": {
    "name": "ipython",
    "version": 3
   },
   "file_extension": ".py",
   "mimetype": "text/x-python",
   "name": "python",
   "nbconvert_exporter": "python",
   "pygments_lexer": "ipython3",
   "version": "3.11.0"
  }
 },
 "nbformat": 4,
 "nbformat_minor": 5
}
