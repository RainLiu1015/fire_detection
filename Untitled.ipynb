{
 "cells": [
  {
   "cell_type": "code",
   "execution_count": 13,
   "id": "0e61b6fb-4b19-468f-831c-b73483e2b0ba",
   "metadata": {},
   "outputs": [
    {
     "name": "stdout",
     "output_type": "stream",
     "text": [
      "/Users/apple/Desktop/Code/fire_detection/screenshots\n",
      "截图已保存到'/Users/apple/Desktop/Code/fire_detection/screenshots/1.png'\n",
      "截图已保存到'/Users/apple/Desktop/Code/fire_detection/screenshots/2.png'\n",
      "截图已保存到'/Users/apple/Desktop/Code/fire_detection/screenshots/3.png'\n",
      "截图已保存到'/Users/apple/Desktop/Code/fire_detection/screenshots/4.png'\n",
      "截图已保存到'/Users/apple/Desktop/Code/fire_detection/screenshots/5.png'\n",
      "截图已保存到'/Users/apple/Desktop/Code/fire_detection/screenshots/6.png'\n",
      "截图已保存到'/Users/apple/Desktop/Code/fire_detection/screenshots/7.png'\n",
      "截图已保存到'/Users/apple/Desktop/Code/fire_detection/screenshots/8.png'\n",
      "截图已保存到'/Users/apple/Desktop/Code/fire_detection/screenshots/9.png'\n",
      "截图已保存到'/Users/apple/Desktop/Code/fire_detection/screenshots/10.png'\n",
      "截图已保存到'/Users/apple/Desktop/Code/fire_detection/screenshots/11.png'\n",
      "截图已保存到'/Users/apple/Desktop/Code/fire_detection/screenshots/12.png'\n",
      "截图已停止\n"
     ]
    }
   ],
   "source": [
    "import os\n",
    "from PIL import ImageGrab\n",
    "import time\n",
    "\n",
    "# 定义截取区域的坐标和尺寸\n",
    "left = 100  # 区域左边界\n",
    "top = 100   # 区域上边界\n",
    "width = 300 # 区域宽度\n",
    "height = 200 # 区域高度\n",
    "\n",
    "# 定义保存截图的文件路径\n",
    "BASE_DIR = os.getcwd()\n",
    "dir_name = \"screenshots\"\n",
    "dir_path = os.path.join(BASE_DIR, dir_name)\n",
    "print(dir_path)\n",
    "cnt = 0\n",
    "\n",
    "# 循环截取屏幕并保存\n",
    "try:\n",
    "    while True:\n",
    "        if not os.path.exists(dir_path):\n",
    "            os.mkdir(dir_path)\n",
    "        cnt += 1\n",
    "        # 使用imageGrab函数截取屏幕区域\n",
    "        screenshot = ImageGrab.grab((left, top, width, height))\n",
    "        # 保存截图到文件\n",
    "        file_name = str(cnt) + \".png\"\n",
    "        file_path = os.path.join(dir_path, file_name)\n",
    "        screenshot.save(file_path)\n",
    "        print(f\"截图已保存到'{file_path}'\")\n",
    "\n",
    "        # 等待1秒\n",
    "        time.sleep(1)\n",
    "except KeyboardInterrupt:\n",
    "    print(\"截图已停止\")"
   ]
  },
  {
   "cell_type": "code",
   "execution_count": null,
   "id": "9a124b90-121b-42f1-8244-a1b8ff2796ef",
   "metadata": {},
   "outputs": [],
   "source": []
  }
 ],
 "metadata": {
  "kernelspec": {
   "display_name": "Python 3 (ipykernel)",
   "language": "python",
   "name": "python3"
  },
  "language_info": {
   "codemirror_mode": {
    "name": "ipython",
    "version": 3
   },
   "file_extension": ".py",
   "mimetype": "text/x-python",
   "name": "python",
   "nbconvert_exporter": "python",
   "pygments_lexer": "ipython3",
   "version": "3.11.0"
  }
 },
 "nbformat": 4,
 "nbformat_minor": 5
}
